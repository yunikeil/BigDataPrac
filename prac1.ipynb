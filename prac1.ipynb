{
 "cells": [
  {
   "cell_type": "markdown",
   "metadata": {},
   "source": [
    "## MAIN"
   ]
  },
  {
   "cell_type": "markdown",
   "metadata": {},
   "source": [
    "#### Задание 2\n",
    "\n",
    "Написать программу, которая вычисляет площадь фигуры, параметры которой подаются на вход. Фигуры, которые подаются на вход: треугольник, прямоугольник, круг. Результатом работы является словарь, где ключ – это название фигуры, а значение – это площадь."
   ]
  },
  {
   "cell_type": "code",
   "execution_count": null,
   "metadata": {},
   "outputs": [],
   "source": [
    "\n",
    "from abc import ABC, abstractmethod\n",
    "\n",
    "\n",
    "class Shape(ABC):\n",
    "    @abstractmethod\n",
    "    def area(self):\n",
    "        pass\n",
    "\n",
    "\n",
    "class Rectangle(Shape):\n",
    "    def __init__(self, width, height):\n",
    "        self.width = width\n",
    "        self.height = height\n",
    "\n",
    "    def area(self):\n",
    "        return self.width * self.height\n",
    "\n",
    "\n",
    "class Triangle(Shape):\n",
    "    def __init__(self, base, height):\n",
    "        self.base = base  # Основание\n",
    "        self.height = height  # Высота\n",
    "\n",
    "    def area(self):\n",
    "        return 0.5 * self.base * self.height\n",
    "\n",
    "\n",
    "class Circle(Shape):\n",
    "    def __init__(self, radius):\n",
    "        self.radius = radius\n",
    "\n",
    "    def area(self):\n",
    "        return 3.14 * self.radius ** 2\n",
    "\n",
    "\n",
    "\n",
    "rectangle = Rectangle(10, 10)\n",
    "triangle = Triangle(10, 10)\n",
    "circle = Circle(10)\n",
    "\n",
    "(\n",
    "    rectangle.area(),\n",
    "    triangle.area(),\n",
    "    circle.area(),\n",
    ")\n",
    "\n",
    "\n"
   ]
  },
  {
   "cell_type": "markdown",
   "metadata": {},
   "source": [
    "#### Задание 3\n",
    "\n",
    "Написать программу, которая на вход получает два числа и операцию, которую к ним нужно применить. Должны быть реализованы следующие операции: +, -, /, //, abs – модуль, pow или ** – возведение в степень.\n"
   ]
  },
  {
   "cell_type": "code",
   "execution_count": null,
   "metadata": {},
   "outputs": [],
   "source": [
    "import operator\n",
    "\n",
    "def safe_eval(expression: str):\n",
    "    allowed_operators = {\n",
    "        '+': operator.add,\n",
    "        '-': operator.sub,\n",
    "        '**': operator.pow,\n",
    "        '*': operator.mul,\n",
    "        '//': operator.floordiv,\n",
    "        '/': operator.truediv,\n",
    "    }\n",
    "\n",
    "    for op in allowed_operators:\n",
    "        if op in expression:\n",
    "            left, right = expression.split(op)\n",
    "            left, right = float(left.strip()), float(right.strip())\n",
    "            return allowed_operators[op](left, right)\n",
    "    \n",
    "    return \"Unknown or unsupported operation\"\n",
    "\n",
    "    \n",
    "safe_eval(\"10+10\")"
   ]
  },
  {
   "cell_type": "markdown",
   "metadata": {},
   "source": [
    "#### Задание 4\n",
    "\n",
    "Напишите программу, которая считывает с консоли числа (по одному в строке) до тех пор, пока сумма введённых чисел не будет равна 0 и после этого выводит сумму квадратов всех считанных чисел.\n"
   ]
  },
  {
   "cell_type": "code",
   "execution_count": null,
   "metadata": {},
   "outputs": [],
   "source": [
    "\n",
    "def sum_of_squares_until_zero():\n",
    "    numbers = []\n",
    "    total_sum = 0\n",
    "    \n",
    "    while True:\n",
    "        num = int(input(\"Введите число: \"))\n",
    "        numbers.append(num)\n",
    "        total_sum += num\n",
    "        if total_sum == 0:\n",
    "            break\n",
    "    \n",
    "    return sum(x ** 2 for x in numbers)\n",
    "\n",
    "sum_of_squares_until_zero()"
   ]
  },
  {
   "cell_type": "markdown",
   "metadata": {},
   "source": [
    "#### Задание 5\n",
    "\n",
    "Напишите программу, которая выводит последовательность чисел, длиной N, где каждое число повторяется столько раз, чему оно равно. На вход программе передаётся неотрицательное целое число N. Например, если N = 7, то программа должна вывести 1 2 2 3 3 3 4. Вывод элементов списка через пробел – print(*list).\n"
   ]
  },
  {
   "cell_type": "code",
   "execution_count": null,
   "metadata": {},
   "outputs": [],
   "source": [
    "def generate_seq(N: int) -> None:\n",
    "    sequence = []\n",
    "    \n",
    "    for i in range(1, N + 1):\n",
    "        sequence.extend([i] * i)\n",
    "    \n",
    "    sequence = sequence[:N]\n",
    "    \n",
    "    print(*sequence)\n",
    "\n",
    "N = int(input(\"N: \"))\n",
    "generate_seq(N)"
   ]
  },
  {
   "cell_type": "markdown",
   "metadata": {},
   "source": [
    "#### Задание 6\n",
    "\n",
    "Даны два списка:\n",
    "```python\n",
    "А = [1, 2, 3, 4, 2, 1, 3, 4, 5, 6, 5, 4, 3, 2]  \n",
    "В = [‘a’, ‘b’, ‘c’, ‘c’, ‘c’, ‘b’, ‘a’, ‘c’, ‘a’, ‘a’, ‘b’, ‘c’, ‘b’, ‘a’]  \n",
    "```\n",
    "Создать словарь, в котором ключи – это содержимое списка В, а значения для ключей словаря – это сумма всех элементов списка А в соответствии с буквой, содержащейся на той же позиции в списке В. Пример результата программы: `{‘a’ : 10, ‘b’ : 15, ‘c’ : 6}`\n"
   ]
  },
  {
   "cell_type": "code",
   "execution_count": null,
   "metadata": {},
   "outputs": [],
   "source": [
    "from collections import defaultdict\n",
    "\n",
    "\n",
    "A = [1, 2, 3, 4, 2, 1, 3, 4, 5, 6, 5, 4, 3, 2]\n",
    "B = ['a', 'b', 'c', 'c', 'c', 'b', 'a', 'c', 'a', 'a', 'b', 'c', 'b', 'a']\n",
    "\n",
    "result_defaultdict = defaultdict(int)\n",
    "\n",
    "for key, value in zip(B, A):\n",
    "    result_defaultdict[key] += value\n",
    "\n",
    "result_defaultdict\n"
   ]
  },
  {
   "cell_type": "markdown",
   "metadata": {},
   "source": [
    "#### Задание 7\n",
    "\n",
    "Скачать и загрузить данные о стоимости домов в Калифорнии, используя библиотеку `sklearn`:\n",
    "\n",
    "```python\n",
    "from sklearn.datasets import fetch_california_housing\n",
    "data = fetch_california_housing(as_frame=True)\n",
    "```"
   ]
  },
  {
   "cell_type": "code",
   "execution_count": null,
   "metadata": {},
   "outputs": [],
   "source": [
    "!pip install scikit-learn pandas"
   ]
  },
  {
   "cell_type": "code",
   "execution_count": 37,
   "metadata": {},
   "outputs": [],
   "source": [
    "from sklearn.datasets import fetch_california_housing\n",
    "data = fetch_california_housing(as_frame=True)"
   ]
  },
  {
   "cell_type": "code",
   "execution_count": null,
   "metadata": {},
   "outputs": [],
   "source": [
    "import pandas as pd\n",
    "\n",
    "data: dict[str, pd.DataFrame]\n",
    "df: pd.DataFrame = data[\"frame\"] \n",
    "df\n"
   ]
  },
  {
   "cell_type": "markdown",
   "metadata": {},
   "source": [
    "#### Задание 8\n",
    "\n",
    "Использовать метод `info()` для просмотра информации о загруженных данных:"
   ]
  },
  {
   "cell_type": "code",
   "execution_count": null,
   "metadata": {},
   "outputs": [],
   "source": [
    "df.info()"
   ]
  },
  {
   "cell_type": "markdown",
   "metadata": {},
   "source": [
    "#### Задание 9\n",
    "\n",
    "Узнать, есть ли пропущенные значения, используя метод `isna().sum()`"
   ]
  },
  {
   "cell_type": "code",
   "execution_count": null,
   "metadata": {},
   "outputs": [],
   "source": [
    "df.isna().sum()"
   ]
  },
  {
   "cell_type": "markdown",
   "metadata": {},
   "source": [
    "#### Задание 10\n",
    "\n",
    "Вывести записи, где средний возраст домов в районе более 50 лет и население более 2500 человек, используя метод `loc()`"
   ]
  },
  {
   "cell_type": "code",
   "execution_count": null,
   "metadata": {},
   "outputs": [],
   "source": [
    "\n",
    "df.loc[(df['HouseAge'] > 50) & (df['Population'] > 2500)]\n"
   ]
  },
  {
   "cell_type": "markdown",
   "metadata": {},
   "source": [
    "#### Задание 11\n",
    "\n",
    "Узнать максимальное и минимальное значения медианной стоимости дома.\n"
   ]
  },
  {
   "cell_type": "code",
   "execution_count": null,
   "metadata": {},
   "outputs": [],
   "source": [
    "(\n",
    "    df['MedHouseVal'].min(),\n",
    "    df['MedHouseVal'].max(),\n",
    ")\n"
   ]
  },
  {
   "cell_type": "markdown",
   "metadata": {},
   "source": [
    "#### Задание 12\n",
    "\n",
    "Используя метод `apply()`, вывести на экран название признака и его среднее значение.\n"
   ]
  },
  {
   "cell_type": "code",
   "execution_count": null,
   "metadata": {},
   "outputs": [],
   "source": [
    "df.apply(lambda x: x.mean())"
   ]
  },
  {
   "cell_type": "markdown",
   "metadata": {},
   "source": [
    "#### Задание 13\n",
    "\n",
    "Составить отчет о проделанной работе. В отчете должен быть представлен код и результаты его выполнения с выводами.\n"
   ]
  },
  {
   "cell_type": "markdown",
   "metadata": {},
   "source": [
    "## STARS"
   ]
  },
  {
   "cell_type": "markdown",
   "metadata": {},
   "source": [
    "#### Задание 1* \n",
    "Дан текст на английском языке. Необходимо закодировать его с помощью азбуки Морзе, где каждой букве соответствует последовательность точек и тире. Например, буква «g» превратится в строку «--.». В переменной morze для удобства хранится словарь соответствия латинских букв коду Морзе. \n",
    "```pythn\n",
    "morze = {'a': '.-', 'b': '-…', 'c': '-.-.', 'd': '-..',\n",
    "         'e': '.', 'f': '..-.', 'g': '--.', 'h': '….',\n",
    "         'i': '..', 'j': '.---', 'k': '-.-', 'l': '.-..',\n",
    "         'm': '--', 'n': '-.', 'o': '---', 'p': '.--.',\n",
    "         'q': '--.-', 'r': '.-.', 's': '…', 't': '-',\n",
    "         'u': '..-', 'v': '…-', 'w': '.--', 'x': '-..-',\n",
    "         'y': '-.--', 'z': '--..'} \n",
    "```\n",
    "На входе: В одной строке вам дан текст, который состоит из латинских букв и пробелов.\n",
    "На выходе:\n",
    "Выведите каждое слово исходного текста, закодированное азбукой Морзе. Количество строк в ответе должно совпадать с количеством слов в исходном тексте. Между закодированными буквами ставится ровно один пробел. Например, слово «Help» превратится в «.... . .-.. .--.». Строчные и заглавные буквы кодируются одинаково.\n",
    "Например:\n",
    "`Ignition sequence start`\n",
    "Перевод\n",
    "```\n",
    ".. --. -. .. - .. --- -. \n",
    "… . --.- ..- . -. -.-. .\n",
    "… - .- .-. -\n",
    "```"
   ]
  },
  {
   "cell_type": "code",
   "execution_count": null,
   "metadata": {},
   "outputs": [],
   "source": [
    "morze = {'a': '.-', 'b': '-…', 'c': '-.-.', 'd': '-..',\n",
    "         'e': '.', 'f': '..-.', 'g': '--.', 'h': '….',\n",
    "         'i': '..', 'j': '.---', 'k': '-.-', 'l': '.-..',\n",
    "         'm': '--', 'n': '-.', 'o': '---', 'p': '.--.',\n",
    "         'q': '--.-', 'r': '.-.', 's': '…', 't': '-',\n",
    "         'u': '..-', 'v': '…-', 'w': '.--', 'x': '-..-',\n",
    "         'y': '-.--', 'z': '--..'} \n",
    "\n",
    "text = \"Ignition sequence start\"\n",
    "result = \"\"\n",
    "\n",
    "for word in text.split():\n",
    "    for letter in word.lower():\n",
    "        result += morze[letter] + \" \"\n",
    "    result += \"\\n\"\n",
    "\n",
    "print(result)"
   ]
  },
  {
   "cell_type": "markdown",
   "metadata": {},
   "source": [
    "#### Задание 2*\n",
    "\n",
    "В некотором городе открывается новая служба по доставке электронных писем. Необходимо наладить систему регистрации новых пользователей. Регистрация должна работать следующим образом: если новый пользователь хочет зарегистрироваться на сайте, то он должен послать системе запрос `name` со своим именем. Система должна определить, существует ли уже такое имя в базе данных. Если такого имени не существует, то оно заносится в базу данных системы и пользователю возвращается ответ \"ОК\", подтверждающий успешную регистрацию. А если пользователь с таким именем уже существует, то система должна сформировать новое имя и выдать его пользователю в качестве подсказки, при этом сама подсказка также добавляется в базу данных. Новое имя формируется следующим образом: к `name` последовательно приписываются числа, начиная с 1 (`name1`, `name2` и так далее), и среди них находят такое наименьшее `i`, что `namei` еще не содержится в системе.\n",
    "\n",
    "Входные данные:  \n",
    "В первой строке входных данных задано число `n` (1 ≤ `n` ≤ 100000). Следующие `n` строк содержат запросы к системе. Каждый запрос представляет собой непустую строку длиной не более 32 символов, состоящую только из строчных букв латинского алфавита.\n",
    "\n",
    "Выходные данные:  \n",
    "В выходных данных должно содержаться `n` строк – ответы системы на запросы: \"OK\" в случае успешной регистрации, или подсказка с новым именем, если запрашиваемое уже занято.\n"
   ]
  },
  {
   "cell_type": "code",
   "execution_count": null,
   "metadata": {},
   "outputs": [],
   "source": [
    "\n",
    "def registration_system(queries):\n",
    "    name_counts = {}\n",
    "    results = []\n",
    "    \n",
    "    for name in queries:\n",
    "        if name not in name_counts:\n",
    "            name_counts[name] = 1\n",
    "            results.append(\"OK\")\n",
    "            \n",
    "        else:\n",
    "            i = name_counts[name]\n",
    "            new_name = f\"{name}{i}\"\n",
    "            while new_name in name_counts:\n",
    "                i += 1\n",
    "                new_name = f\"{name}{i}\"\n",
    "\n",
    "            name_counts[name] = i + 1\n",
    "            name_counts[new_name] = 1\n",
    "            results.append(new_name)\n",
    "    \n",
    "    return results\n",
    "\n",
    "n = int(input())\n",
    "queries = [input().strip()[:32] for _ in range(n)]\n",
    "results = registration_system(queries)\n",
    "print(\"result =>\")\n",
    "for result in results:\n",
    "    print(result)\n"
   ]
  },
  {
   "cell_type": "markdown",
   "metadata": {},
   "source": [
    "#### Задание 3\n",
    "\n",
    "Необходимо создать программу обработки запросов пользователей к файловой системе компьютера. Над каждым файлом можно производить следующие действия: запись – `w` (\"write\"), чтение – `r` (\"read\"), запуск – `x` (\"execute\").\n",
    "\n",
    "Входные данные:  \n",
    "На вход программе подаются следующие параметры:  \n",
    "- Число `n` – количество файлов в файловой системе.  \n",
    "- В следующих `n` строках содержится информация с именами файлов и допустимыми действиями (`w`, `x`, `r`), разделенных пробелами.  \n",
    "- Далее идет число `m` – количество запросов к файлам вида «операция файл» (обозначение операции: `write`, `read`, `execute`).\n",
    "\n",
    "Выходные данные:  \n",
    "Для каждого допустимого запроса программа должна возвращать `OK`, для недопустимого – `Access denied`.\n"
   ]
  },
  {
   "cell_type": "code",
   "execution_count": null,
   "metadata": {},
   "outputs": [],
   "source": [
    "\n",
    "\n",
    "n = int(input())\n",
    "\n",
    "...\n"
   ]
  }
 ],
 "metadata": {
  "kernelspec": {
   "display_name": ".venv",
   "language": "python",
   "name": "python3"
  },
  "language_info": {
   "codemirror_mode": {
    "name": "ipython",
    "version": 3
   },
   "file_extension": ".py",
   "mimetype": "text/x-python",
   "name": "python",
   "nbconvert_exporter": "python",
   "pygments_lexer": "ipython3",
   "version": "3.10.14"
  }
 },
 "nbformat": 4,
 "nbformat_minor": 2
}
